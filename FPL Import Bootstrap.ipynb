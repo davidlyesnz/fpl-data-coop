{
 "cells": [
  {
   "cell_type": "code",
   "execution_count": 0,
   "metadata": {
    "application/vnd.databricks.v1+cell": {
     "cellMetadata": {
      "byteLimit": 2048000,
      "rowLimit": 10000
     },
     "inputWidgets": {},
     "nuid": "b8706155-4f3d-4e2a-99c1-34d81b267b44",
     "showTitle": true,
     "tableResultSettingsMap": {},
     "title": "Initial Bootstap Import"
    }
   },
   "outputs": [],
   "source": [
    "import requests, json\n",
    "from pprint import pprint\n",
    "import pandas as pd\n",
    "\n",
    "pd.set_option('display.max_columns', None)\n",
    "\n",
    "# base url for all FPL API endpoints\n",
    "base_url = 'https://fantasy.premierleague.com/api/'\n",
    "\n",
    "# get data from bootstrap-static endpoint\n",
    "r = requests.get(base_url+'bootstrap-static/').json()\n",
    "\n",
    "# show the top level fields\n",
    "pprint(r, indent=2, depth=1, compact=True)"
   ]
  },
  {
   "cell_type": "code",
   "execution_count": 0,
   "metadata": {
    "application/vnd.databricks.v1+cell": {
     "cellMetadata": {
      "byteLimit": 2048000,
      "rowLimit": 10000
     },
     "inputWidgets": {},
     "nuid": "37f657d2-01f1-4689-90ee-fe82531e89dc",
     "showTitle": true,
     "tableResultSettingsMap": {},
     "title": "Players data (elements)"
    }
   },
   "outputs": [],
   "source": [
    "\n",
    "# create players dataframe\n",
    "players = pd.json_normalize(r['elements'])\n",
    "\n",
    "# show some information about first five players\n",
    "# players[['id', 'web_name', 'team', 'element_type']].head()\n",
    "# players.head(12)\n",
    "players.sort_values(by:='total_points', ascending=False).head(10)\n",
    "\n"
   ]
  },
  {
   "cell_type": "code",
   "execution_count": 0,
   "metadata": {
    "application/vnd.databricks.v1+cell": {
     "cellMetadata": {
      "byteLimit": 2048000,
      "rowLimit": 10000
     },
     "inputWidgets": {},
     "nuid": "bac6a5b1-ab6d-4713-98a6-78a3e99ef963",
     "showTitle": true,
     "tableResultSettingsMap": {},
     "title": "Teams data"
    }
   },
   "outputs": [],
   "source": [
    "# create teams dataframe\n",
    "teams = pd.json_normalize(r['teams'])\n",
    "\n",
    "teams.head(40)"
   ]
  },
  {
   "cell_type": "code",
   "execution_count": 0,
   "metadata": {
    "application/vnd.databricks.v1+cell": {
     "cellMetadata": {
      "byteLimit": 2048000,
      "rowLimit": 10000
     },
     "inputWidgets": {},
     "nuid": "66fc91ed-e4e3-4fd4-a769-da3e08a11153",
     "showTitle": true,
     "tableResultSettingsMap": {},
     "title": "Element Types (Position)"
    }
   },
   "outputs": [],
   "source": [
    "# create element_types dataframe\n",
    "element_types = pd.json_normalize(r['element_types'])\n",
    "\n",
    "element_types.head(40)"
   ]
  },
  {
   "cell_type": "code",
   "execution_count": 0,
   "metadata": {
    "application/vnd.databricks.v1+cell": {
     "cellMetadata": {
      "byteLimit": 2048000,
      "rowLimit": 10000
     },
     "inputWidgets": {},
     "nuid": "d6374167-04ec-4e55-9fff-61302eb2d3bb",
     "showTitle": true,
     "tableResultSettingsMap": {},
     "title": "Events (Game weeks)"
    }
   },
   "outputs": [],
   "source": [
    "# create elements dataframe\n",
    "events = pd.json_normalize(r['events'])\n",
    "\n",
    "events.head(40)"
   ]
  },
  {
   "cell_type": "code",
   "execution_count": 0,
   "metadata": {
    "application/vnd.databricks.v1+cell": {
     "cellMetadata": {
      "byteLimit": 2048000,
      "rowLimit": 10000
     },
     "inputWidgets": {},
     "nuid": "ca9ea14c-4639-4dac-9880-115cb90d1dc0",
     "showTitle": true,
     "tableResultSettingsMap": {},
     "title": "Game Config"
    }
   },
   "outputs": [],
   "source": [
    "# create game_config dataframe\n",
    "game_config = pd.json_normalize(r['game_config'])\n",
    "\n",
    "game_config.head(40)"
   ]
  },
  {
   "cell_type": "code",
   "execution_count": 0,
   "metadata": {
    "application/vnd.databricks.v1+cell": {
     "cellMetadata": {
      "byteLimit": 2048000,
      "rowLimit": 10000
     },
     "inputWidgets": {},
     "nuid": "3c030654-d828-4de3-b827-edd0d8bcdcd9",
     "showTitle": true,
     "tableResultSettingsMap": {},
     "title": "Game Settings"
    }
   },
   "outputs": [],
   "source": [
    "# create game_settings dataframe\n",
    "game_settings = pd.json_normalize(r['game_settings'])\n",
    "\n",
    "game_settings.head(40)"
   ]
  },
  {
   "cell_type": "code",
   "execution_count": 0,
   "metadata": {
    "application/vnd.databricks.v1+cell": {
     "cellMetadata": {
      "byteLimit": 2048000,
      "rowLimit": 10000
     },
     "inputWidgets": {},
     "nuid": "1c7fbc91-fe8f-48e9-bd9c-210fc152cad0",
     "showTitle": true,
     "tableResultSettingsMap": {},
     "title": "Phases (Months)"
    }
   },
   "outputs": [],
   "source": [
    "# create phases dataframe\n",
    "phases = pd.json_normalize(r['phases'])\n",
    "\n",
    "phases.head(40)"
   ]
  },
  {
   "cell_type": "code",
   "execution_count": 0,
   "metadata": {
    "application/vnd.databricks.v1+cell": {
     "cellMetadata": {
      "byteLimit": 2048000,
      "rowLimit": 10000
     },
     "inputWidgets": {},
     "nuid": "2361e424-5a9e-4af6-8ba1-f5c0929a06b1",
     "showTitle": true,
     "tableResultSettingsMap": {},
     "title": "Chips"
    }
   },
   "outputs": [],
   "source": [
    "# create chips dataframe\n",
    "chips = pd.json_normalize(r['chips'])\n",
    "\n",
    "chips.head(40)"
   ]
  },
  {
   "cell_type": "code",
   "execution_count": 0,
   "metadata": {
    "application/vnd.databricks.v1+cell": {
     "cellMetadata": {
      "byteLimit": 2048000,
      "rowLimit": 10000
     },
     "inputWidgets": {},
     "nuid": "afdfd698-3abb-47f0-bbc5-8dfca2134d35",
     "showTitle": true,
     "tableResultSettingsMap": {},
     "title": "Element Stats (Labels)"
    }
   },
   "outputs": [],
   "source": [
    "# create element_stats dataframe\n",
    "element_stats = pd.json_normalize(r['element_stats'])\n",
    "\n",
    "element_stats.head(40)"
   ]
  }
 ],
 "metadata": {
  "application/vnd.databricks.v1+notebook": {
   "computePreferences": {
    "hardware": {
     "accelerator": null,
     "gpuPoolId": null,
     "memory": null
    }
   },
   "dashboards": [],
   "environmentMetadata": {
    "base_environment": "",
    "environment_version": "2"
   },
   "inputWidgetPreferences": null,
   "language": "python",
   "notebookMetadata": {
    "pythonIndentUnit": 4
   },
   "notebookName": "FPL Import Bootstrap",
   "widgets": {}
  },
  "language_info": {
   "name": "python"
  }
 },
 "nbformat": 4,
 "nbformat_minor": 0
}
